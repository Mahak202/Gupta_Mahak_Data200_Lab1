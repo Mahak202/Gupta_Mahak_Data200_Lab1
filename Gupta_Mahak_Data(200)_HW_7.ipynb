{
 "cells": [
  {
   "cell_type": "code",
   "execution_count": 18,
   "id": "1e809a77-07c9-483f-9774-e5da19b3c10f",
   "metadata": {},
   "outputs": [
    {
     "name": "stdout",
     "output_type": "stream",
     "text": [
      "-->> Understanding Hashing Function implementation : \n",
      " \n",
      "#Trial 1 : True\n",
      "#Trial 2 : False\n",
      "#Trial 3 : True\n"
     ]
    }
   ],
   "source": [
    "import hashlib\n",
    "class UserDatabase:\n",
    "    def __init__(self):\n",
    "        self.user_data = {}\n",
    "\n",
    "    def register_user(self, username, password):\n",
    "        hashed_password = HashingUtility.generate_hash(password, 'SHA256')\n",
    "        self.user_data[username] = hashed_password\n",
    "\n",
    "    def authenticate_user(self, username, password):\n",
    "        if username not in self.user_data:\n",
    "            return False\n",
    "        hashed_password = HashingUtility.generate_hash(password, 'SHA256')\n",
    "        return self.user_data[username] == hashed_password\n",
    "\n",
    "class HashingUtility:\n",
    "    @staticmethod\n",
    "    def generate_hash(data, algorithm):\n",
    "        if algorithm.upper() == 'SHA256':\n",
    "            return hashlib.sha256(data.encode()).hexdigest()\n",
    "        elif algorithm.upper() == 'MD5':\n",
    "            return hashlib.md5(data.encode()).hexdigest()\n",
    "        else:\n",
    "            raise ValueError(\"This is not supporting hashing algorithm. You need to use 'SHA256' or 'MD5'.\")\n",
    "\n",
    "def trial_usecase():\n",
    "    database = UserDatabase() \n",
    "    database.register_user(\"Mahak\", \"MahakData200\")\n",
    "    database.register_user(\"Gupta\", \"Trialpwd\")\n",
    "    print(\"-->> Understanding Hashing Function implementation : \\n \")\n",
    "    print(f\"#Trial 1 : {database.authenticate_user('Mahak', 'MahakData200')}\")\n",
    "    print(f\"#Trial 2 : {database.authenticate_user('Gupta', 'incorrectpassword')}\") \n",
    "    print(f\"#Trial 3 : {database.authenticate_user('Gupta', 'Trialpwd')}\")     \n",
    "\n",
    "if __name__ == \"__main__\":\n",
    "    trial_usecase()"
   ]
  },
  {
   "cell_type": "code",
   "execution_count": 1,
   "id": "fad243e7-5b6c-4265-8064-0de452d752ff",
   "metadata": {},
   "outputs": [
    {
     "name": "stdin",
     "output_type": "stream",
     "text": [
      "Choose the correct option to proceed further (register/login/exit): register\n",
      "Enter your username: mahak\n",
      "Enter your password: data200\n"
     ]
    },
    {
     "name": "stdout",
     "output_type": "stream",
     "text": [
      "Congrats!! Registered successfully as User.\n"
     ]
    },
    {
     "name": "stdin",
     "output_type": "stream",
     "text": [
      "Choose the correct option to proceed further (register/login/exit): login\n",
      "Enter your username: mahak\n",
      "Enter your password: data200\n"
     ]
    },
    {
     "name": "stdout",
     "output_type": "stream",
     "text": [
      "YAYY!! Congrats!! Your login is successful.\n"
     ]
    },
    {
     "name": "stdin",
     "output_type": "stream",
     "text": [
      "Choose the correct option to proceed further (register/login/exit): login\n",
      "Enter your username: mahak\n",
      "Enter your password: incorrectpwd\n"
     ]
    },
    {
     "name": "stdout",
     "output_type": "stream",
     "text": [
      "Password you entered is incorrect.\n"
     ]
    },
    {
     "name": "stdin",
     "output_type": "stream",
     "text": [
      "Choose the correct option to proceed further (register/login/exit): exit\n"
     ]
    }
   ],
   "source": [
    "import hashlib\n",
    "\n",
    "class hashFunction:\n",
    "    def __init__(self):\n",
    "        self.user_data = {} \n",
    "\n",
    "    def getHashValue(self, message, type):\n",
    "        if type.upper() == 'MD5':\n",
    "            return hashlib.md5(message.encode()).hexdigest()\n",
    "        elif type.upper() == 'SHA256':\n",
    "            return hashlib.sha256(message.encode()).hexdigest()\n",
    "        else:\n",
    "            raise ValueError(\"Hashing is not supported\")\n",
    "\n",
    "    def register_user(self, username, password):\n",
    "        if username in self.user_data:\n",
    "            return \"Hey!!! You are already existing as user.\"\n",
    "        self.user_data[username] = self.getHashValue(password, 'SHA256')\n",
    "        return \"Congrats!! Registered successfully as User.\"\n",
    "\n",
    "    def login_user(self, username, password):\n",
    "        if username not in self.user_data:\n",
    "            return \"OOPS!!! Your User ID is not found.\"\n",
    "        if self.user_data[username] == self.getHashValue(password, 'SHA256'):\n",
    "            return \"YAYY!! Congrats!! Your login is successful.\"\n",
    "        return \"Password you entered is incorrect.\"\n",
    "\n",
    "hash_system = hashFunction()\n",
    "while True:\n",
    "    action = input(\"Choose the correct option to proceed further (register/login/exit):\").strip().lower()\n",
    "    if action == \"register\":\n",
    "        username = input(\"Enter your username:\").strip()\n",
    "        password = input(\"Enter your password:\").strip()\n",
    "        print(hash_system.register_user(username, password))\n",
    "    elif action == \"login\":\n",
    "        username = input(\"Enter your username:\").strip()\n",
    "        password = input(\"Enter your password:\").strip()\n",
    "        print(hash_system.login_user(username, password))\n",
    "    elif action == \"exit\":\n",
    "        break\n",
    "    else:\n",
    "        print(\"OOPS!! Invalid option. Please choose out of 3 either register, login, or exit./n\")\n",
    "\n"
   ]
  },
  {
   "cell_type": "code",
   "execution_count": null,
   "id": "41db35e5-1fd5-4144-8ab8-34c8209f9244",
   "metadata": {},
   "outputs": [],
   "source": []
  },
  {
   "cell_type": "code",
   "execution_count": null,
   "id": "829b921a-a1f9-49e3-b264-83d52d3da4bc",
   "metadata": {},
   "outputs": [],
   "source": []
  }
 ],
 "metadata": {
  "kernelspec": {
   "display_name": "Python 3 (ipykernel)",
   "language": "python",
   "name": "python3"
  },
  "language_info": {
   "codemirror_mode": {
    "name": "ipython",
    "version": 3
   },
   "file_extension": ".py",
   "mimetype": "text/x-python",
   "name": "python",
   "nbconvert_exporter": "python",
   "pygments_lexer": "ipython3",
   "version": "3.9.7"
  }
 },
 "nbformat": 4,
 "nbformat_minor": 5
}
